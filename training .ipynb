{
 "cells": [
  {
   "cell_type": "code",
   "execution_count": 17,
   "id": "c89daa4a",
   "metadata": {},
   "outputs": [],
   "source": [
    "from tensorflow.keras.preprocessing.image import ImageDataGenerator,img_to_array,load_img\n",
    "from tensorflow.keras.applications import MobileNetV2\n",
    "from tensorflow.keras.layers import AveragePooling2D,Dropout,Flatten,Dense,Input\n",
    "from tensorflow.keras.models import Model\n",
    "from tensorflow.keras.optimizers import Adam\n",
    "from tensorflow.keras.applications.mobilenet_v2 import preprocess_input\n",
    "from tensorflow.keras.utils import to_categorical\n",
    "from sklearn.preprocessing import LabelBinarizer\n",
    "from sklearn.model_selection import train_test_split\n",
    "from sklearn.metrics import classification_report\n",
    "import matplotlib.pyplot as plt\n",
    "import numpy as np\n",
    "import os"
   ]
  },
  {
   "cell_type": "code",
   "execution_count": 18,
   "id": "b7890a25",
   "metadata": {},
   "outputs": [],
   "source": [
    "DIRECTORY = r\"D:\\Facemask Detection\\data\"\n",
    "CATEGORIES = [\"with_mask\", \"without_mask\"]\n",
    "\n",
    "data = []\n",
    "labels = []\n",
    "\n",
    "for category in CATEGORIES:\n",
    "    path = os.path.join(DIRECTORY, category)\n",
    "    for img in os.listdir(path):\n",
    "        img_path = os.path.join(path, img)\n",
    "        image = load_img(img_path, target_size=(224,224))\n",
    "        image = img_to_array(image)\n",
    "        image = preprocess_input(image)\n",
    "        data.append(image)\n",
    "        labels.append(category)"
   ]
  },
  {
   "cell_type": "code",
   "execution_count": 19,
   "id": "42e5f79c",
   "metadata": {},
   "outputs": [],
   "source": [
    "lb = LabelBinarizer()\n",
    "labels = lb.fit_transform(labels)\n",
    "labels = to_categorical(labels)"
   ]
  },
  {
   "cell_type": "code",
   "execution_count": 20,
   "id": "e1db1c55",
   "metadata": {},
   "outputs": [],
   "source": [
    "data = np.array(data, dtype=\"float32\")\n",
    "labels = np.array(labels)\n",
    "\n",
    "X_train,X_test,y_train,y_test = train_test_split(data, labels,test_size=0.20, stratify=labels, random_state=42)"
   ]
  },
  {
   "cell_type": "code",
   "execution_count": 22,
   "id": "7548e2cf",
   "metadata": {
    "collapsed": true
   },
   "outputs": [
    {
     "name": "stdout",
     "output_type": "stream",
     "text": [
      "WARNING:tensorflow:`input_shape` is undefined or non-square, or `rows` is not in [96, 128, 160, 192, 224]. Weights for input shape (224, 224) will be loaded as the default.\n"
     ]
    },
    {
     "name": "stderr",
     "output_type": "stream",
     "text": [
      "WARNING:tensorflow:`input_shape` is undefined or non-square, or `rows` is not in [96, 128, 160, 192, 224]. Weights for input shape (224, 224) will be loaded as the default.\n"
     ]
    }
   ],
   "source": [
    "baseModel = MobileNetV2(weights=\"imagenet\", include_top=False,input_tensor=Input(shape=(224, 224, 3)))\n",
    "\n",
    "# the base model\n",
    "headModel = baseModel.output\n",
    "headModel = AveragePooling2D(pool_size=(7, 7))(headModel)\n",
    "headModel = Flatten(name=\"flatten\")(headModel)\n",
    "headModel = Dense(128,input_shape= (224,224)activation=\"relu\")(headModel)\n",
    "headModel = Dropout(0.5)(headModel)\n",
    "headModel = Dense(2, activation=\"softmax\")(headModel)\n",
    "\n",
    "model = Model(inputs=baseModel.input, outputs=headModel)"
   ]
  },
  {
   "cell_type": "code",
   "execution_count": 23,
   "id": "8e8825df",
   "metadata": {},
   "outputs": [],
   "source": [
    "for layer in baseModel.layers:\n",
    "    layer.trainable = False"
   ]
  },
  {
   "cell_type": "code",
   "execution_count": 21,
   "id": "2539ef95",
   "metadata": {},
   "outputs": [],
   "source": [
    "aug = ImageDataGenerator(rotation_range=20,zoom_range=0.15,width_shift_range=0.2,height_shift_range=0.2,shear_range=0.15,horizontal_flip=True,fill_mode=\"nearest\")"
   ]
  },
  {
   "cell_type": "code",
   "execution_count": 24,
   "id": "d583104b",
   "metadata": {
    "scrolled": true
   },
   "outputs": [
    {
     "name": "stdout",
     "output_type": "stream",
     "text": [
      "Epoch 1/20\n",
      "188/188 [==============================] - ETA: 0s - loss: 0.0984 - accuracy: 0.9651WARNING:tensorflow:Your input ran out of data; interrupting training. Make sure that your dataset or generator can generate at least `steps_per_epoch * epochs` batches (in this case, 47 batches). You may need to use the repeat() function when building your dataset.\n"
     ]
    },
    {
     "name": "stderr",
     "output_type": "stream",
     "text": [
      "WARNING:tensorflow:Your input ran out of data; interrupting training. Make sure that your dataset or generator can generate at least `steps_per_epoch * epochs` batches (in this case, 47 batches). You may need to use the repeat() function when building your dataset.\n"
     ]
    },
    {
     "name": "stdout",
     "output_type": "stream",
     "text": [
      "188/188 [==============================] - 424s 2s/step - loss: 0.0984 - accuracy: 0.9651 - val_loss: 0.0521 - val_accuracy: 0.9828\n",
      "Epoch 2/20\n",
      "188/188 [==============================] - 348s 2s/step - loss: 0.0514 - accuracy: 0.9825\n",
      "Epoch 3/20\n",
      "188/188 [==============================] - 387s 2s/step - loss: 0.0488 - accuracy: 0.9840\n",
      "Epoch 4/20\n",
      "188/188 [==============================] - 339s 2s/step - loss: 0.0398 - accuracy: 0.9869\n",
      "Epoch 5/20\n",
      "188/188 [==============================] - 335s 2s/step - loss: 0.0335 - accuracy: 0.9889\n",
      "Epoch 6/20\n",
      "188/188 [==============================] - 332s 2s/step - loss: 0.0345 - accuracy: 0.9884\n",
      "Epoch 7/20\n",
      "188/188 [==============================] - 340s 2s/step - loss: 0.0239 - accuracy: 0.9917\n",
      "Epoch 8/20\n",
      "188/188 [==============================] - 340s 2s/step - loss: 0.0276 - accuracy: 0.9894\n",
      "Epoch 9/20\n",
      "188/188 [==============================] - 201s 1s/step - loss: 0.0249 - accuracy: 0.9910\n",
      "Epoch 10/20\n",
      "188/188 [==============================] - 216s 1s/step - loss: 0.0285 - accuracy: 0.9899\n",
      "Epoch 11/20\n",
      "188/188 [==============================] - 202s 1s/step - loss: 0.0296 - accuracy: 0.9889\n",
      "Epoch 12/20\n",
      "188/188 [==============================] - 2067s 11s/step - loss: 0.0245 - accuracy: 0.9902\n",
      "Epoch 13/20\n",
      "188/188 [==============================] - 207s 1s/step - loss: 0.0255 - accuracy: 0.9902\n",
      "Epoch 14/20\n",
      "188/188 [==============================] - 212s 1s/step - loss: 0.0265 - accuracy: 0.9894\n",
      "Epoch 15/20\n",
      "188/188 [==============================] - 203s 1s/step - loss: 0.0238 - accuracy: 0.9920\n",
      "Epoch 16/20\n",
      "188/188 [==============================] - 408s 2s/step - loss: 0.0192 - accuracy: 0.9937\n",
      "Epoch 17/20\n",
      "188/188 [==============================] - 179s 949ms/step - loss: 0.0209 - accuracy: 0.9925\n",
      "Epoch 18/20\n",
      "188/188 [==============================] - 178s 948ms/step - loss: 0.0214 - accuracy: 0.9930\n",
      "Epoch 19/20\n",
      "188/188 [==============================] - 2038s 11s/step - loss: 0.0191 - accuracy: 0.9935\n",
      "Epoch 20/20\n",
      "188/188 [==============================] - 191s 1s/step - loss: 0.0190 - accuracy: 0.9933\n"
     ]
    },
    {
     "data": {
      "text/plain": [
       "<keras.src.callbacks.History at 0x163cec10e10>"
      ]
     },
     "execution_count": 24,
     "metadata": {},
     "output_type": "execute_result"
    }
   ],
   "source": [
    "model.compile(loss=\"binary_crossentropy\", optimizer='adam',metrics=[\"accuracy\"])\n",
    "model.fit(aug.flow(X_train, y_train, batch_size=32),steps_per_epoch=len(X_train)//32,validation_data=(X_test, y_test),validation_steps=len(X_test)//32,epochs=20)"
   ]
  },
  {
   "cell_type": "code",
   "execution_count": 25,
   "id": "40549443",
   "metadata": {},
   "outputs": [
    {
     "name": "stdout",
     "output_type": "stream",
     "text": [
      "48/48 [==============================] - 38s 775ms/step\n",
      "              precision    recall  f1-score   support\n",
      "\n",
      "   with_mask       0.99      0.99      0.99       745\n",
      "without_mask       0.99      0.99      0.99       766\n",
      "\n",
      "    accuracy                           0.99      1511\n",
      "   macro avg       0.99      0.99      0.99      1511\n",
      "weighted avg       0.99      0.99      0.99      1511\n",
      "\n"
     ]
    }
   ],
   "source": [
    "predIdxs = model.predict(X_test, batch_size=32)\n",
    "predIdxs = np.argmax(predIdxs, axis=1)\n",
    "\n",
    "print(classification_report(y_test.argmax(axis=1), predIdxs,target_names=lb.classes_))"
   ]
  },
  {
   "cell_type": "code",
   "execution_count": 26,
   "id": "bfaaa055",
   "metadata": {},
   "outputs": [
    {
     "name": "stderr",
     "output_type": "stream",
     "text": [
      "C:\\Users\\8mpra\\anaconda3\\Lib\\site-packages\\keras\\src\\engine\\training.py:3000: UserWarning: You are saving your model as an HDF5 file via `model.save()`. This file format is considered legacy. We recommend using instead the native Keras format, e.g. `model.save('my_model.keras')`.\n",
      "  saving_api.save_model(\n"
     ]
    }
   ],
   "source": [
    "model.save(\"mask_detector.model\", save_format=\"h5\")"
   ]
  }
 ],
 "metadata": {
  "kernelspec": {
   "display_name": "Python 3 (ipykernel)",
   "language": "python",
   "name": "python3"
  },
  "language_info": {
   "codemirror_mode": {
    "name": "ipython",
    "version": 3
   },
   "file_extension": ".py",
   "mimetype": "text/x-python",
   "name": "python",
   "nbconvert_exporter": "python",
   "pygments_lexer": "ipython3",
   "version": "3.11.3"
  }
 },
 "nbformat": 4,
 "nbformat_minor": 5
}
